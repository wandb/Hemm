{
 "cells": [
  {
   "cell_type": "code",
   "execution_count": null,
   "metadata": {},
   "outputs": [],
   "source": [
    "import weave\n",
    "from hemm.utils import publish_dataset_to_weave"
   ]
  },
  {
   "cell_type": "code",
   "execution_count": null,
   "metadata": {},
   "outputs": [],
   "source": [
    "weave.init(project_name=\"propmpt-alignment\")"
   ]
  },
  {
   "cell_type": "code",
   "execution_count": null,
   "metadata": {},
   "outputs": [],
   "source": [
    "dataset_reference = publish_dataset_to_weave(\n",
    "    dataset_path=\"nateraw/parti-prompts\",\n",
    "    prompt_column=\"Prompt\",\n",
    "    split=\"train\",\n",
    "    data_limit=10,\n",
    ")"
   ]
  },
  {
   "cell_type": "code",
   "execution_count": null,
   "metadata": {},
   "outputs": [],
   "source": [
    "def preprocess_sentences_column(example):\n",
    "    example[\"sentences\"] = example[\"sentences\"][\"raw\"]\n",
    "    return example\n",
    "\n",
    "\n",
    "dataset_reference = publish_dataset_to_weave(\n",
    "    dataset_path=\"HuggingFaceM4/COCO\",\n",
    "    prompt_column=\"sentences\",\n",
    "    ground_truth_image_column=\"image\",\n",
    "    split=\"validation\",\n",
    "    dataset_transforms=preprocess_sentences_column,\n",
    "    data_limit=10,\n",
    ")"
   ]
  }
 ],
 "metadata": {
  "kernelspec": {
   "display_name": "Python 3",
   "language": "python",
   "name": "python3"
  },
  "language_info": {
   "codemirror_mode": {
    "name": "ipython",
    "version": 3
   },
   "file_extension": ".py",
   "mimetype": "text/x-python",
   "name": "python",
   "nbconvert_exporter": "python",
   "pygments_lexer": "ipython3",
   "version": "3.10.12"
  }
 },
 "nbformat": 4,
 "nbformat_minor": 2
}
